{
 "cells": [
  {
   "cell_type": "code",
   "execution_count": 242,
   "id": "initial_id",
   "metadata": {
    "collapsed": true,
    "ExecuteTime": {
     "end_time": "2024-07-30T18:38:23.106463064Z",
     "start_time": "2024-07-30T18:38:23.019775173Z"
    }
   },
   "outputs": [],
   "source": [
    "import numpy as np\n",
    "import torch\n",
    "from torch import nn\n",
    "import pandas as pd\n",
    "from sklearn.model_selection import train_test_split"
   ]
  },
  {
   "cell_type": "code",
   "execution_count": 243,
   "outputs": [
    {
     "data": {
      "text/plain": "   Id  MSSubClass MSZoning  LotFrontage  LotArea Street Alley LotShape  \\\n0   1          60       RL         65.0     8450   Pave   NaN      Reg   \n1   2          20       RL         80.0     9600   Pave   NaN      Reg   \n2   3          60       RL         68.0    11250   Pave   NaN      IR1   \n3   4          70       RL         60.0     9550   Pave   NaN      IR1   \n4   5          60       RL         84.0    14260   Pave   NaN      IR1   \n\n  LandContour Utilities  ... ScreenPorch PoolArea PoolQC Fence MiscFeature  \\\n0         Lvl    AllPub  ...           0        0    NaN   NaN         NaN   \n1         Lvl    AllPub  ...           0        0    NaN   NaN         NaN   \n2         Lvl    AllPub  ...           0        0    NaN   NaN         NaN   \n3         Lvl    AllPub  ...           0        0    NaN   NaN         NaN   \n4         Lvl    AllPub  ...           0        0    NaN   NaN         NaN   \n\n  MiscVal MoSold  YrSold  SaleType  SaleCondition  \n0       0      2    2008        WD         Normal  \n1       0      5    2007        WD         Normal  \n2       0      9    2008        WD         Normal  \n3       0      2    2006        WD        Abnorml  \n4       0     12    2008        WD         Normal  \n\n[5 rows x 80 columns]",
      "text/html": "<div>\n<style scoped>\n    .dataframe tbody tr th:only-of-type {\n        vertical-align: middle;\n    }\n\n    .dataframe tbody tr th {\n        vertical-align: top;\n    }\n\n    .dataframe thead th {\n        text-align: right;\n    }\n</style>\n<table border=\"1\" class=\"dataframe\">\n  <thead>\n    <tr style=\"text-align: right;\">\n      <th></th>\n      <th>Id</th>\n      <th>MSSubClass</th>\n      <th>MSZoning</th>\n      <th>LotFrontage</th>\n      <th>LotArea</th>\n      <th>Street</th>\n      <th>Alley</th>\n      <th>LotShape</th>\n      <th>LandContour</th>\n      <th>Utilities</th>\n      <th>...</th>\n      <th>ScreenPorch</th>\n      <th>PoolArea</th>\n      <th>PoolQC</th>\n      <th>Fence</th>\n      <th>MiscFeature</th>\n      <th>MiscVal</th>\n      <th>MoSold</th>\n      <th>YrSold</th>\n      <th>SaleType</th>\n      <th>SaleCondition</th>\n    </tr>\n  </thead>\n  <tbody>\n    <tr>\n      <th>0</th>\n      <td>1</td>\n      <td>60</td>\n      <td>RL</td>\n      <td>65.0</td>\n      <td>8450</td>\n      <td>Pave</td>\n      <td>NaN</td>\n      <td>Reg</td>\n      <td>Lvl</td>\n      <td>AllPub</td>\n      <td>...</td>\n      <td>0</td>\n      <td>0</td>\n      <td>NaN</td>\n      <td>NaN</td>\n      <td>NaN</td>\n      <td>0</td>\n      <td>2</td>\n      <td>2008</td>\n      <td>WD</td>\n      <td>Normal</td>\n    </tr>\n    <tr>\n      <th>1</th>\n      <td>2</td>\n      <td>20</td>\n      <td>RL</td>\n      <td>80.0</td>\n      <td>9600</td>\n      <td>Pave</td>\n      <td>NaN</td>\n      <td>Reg</td>\n      <td>Lvl</td>\n      <td>AllPub</td>\n      <td>...</td>\n      <td>0</td>\n      <td>0</td>\n      <td>NaN</td>\n      <td>NaN</td>\n      <td>NaN</td>\n      <td>0</td>\n      <td>5</td>\n      <td>2007</td>\n      <td>WD</td>\n      <td>Normal</td>\n    </tr>\n    <tr>\n      <th>2</th>\n      <td>3</td>\n      <td>60</td>\n      <td>RL</td>\n      <td>68.0</td>\n      <td>11250</td>\n      <td>Pave</td>\n      <td>NaN</td>\n      <td>IR1</td>\n      <td>Lvl</td>\n      <td>AllPub</td>\n      <td>...</td>\n      <td>0</td>\n      <td>0</td>\n      <td>NaN</td>\n      <td>NaN</td>\n      <td>NaN</td>\n      <td>0</td>\n      <td>9</td>\n      <td>2008</td>\n      <td>WD</td>\n      <td>Normal</td>\n    </tr>\n    <tr>\n      <th>3</th>\n      <td>4</td>\n      <td>70</td>\n      <td>RL</td>\n      <td>60.0</td>\n      <td>9550</td>\n      <td>Pave</td>\n      <td>NaN</td>\n      <td>IR1</td>\n      <td>Lvl</td>\n      <td>AllPub</td>\n      <td>...</td>\n      <td>0</td>\n      <td>0</td>\n      <td>NaN</td>\n      <td>NaN</td>\n      <td>NaN</td>\n      <td>0</td>\n      <td>2</td>\n      <td>2006</td>\n      <td>WD</td>\n      <td>Abnorml</td>\n    </tr>\n    <tr>\n      <th>4</th>\n      <td>5</td>\n      <td>60</td>\n      <td>RL</td>\n      <td>84.0</td>\n      <td>14260</td>\n      <td>Pave</td>\n      <td>NaN</td>\n      <td>IR1</td>\n      <td>Lvl</td>\n      <td>AllPub</td>\n      <td>...</td>\n      <td>0</td>\n      <td>0</td>\n      <td>NaN</td>\n      <td>NaN</td>\n      <td>NaN</td>\n      <td>0</td>\n      <td>12</td>\n      <td>2008</td>\n      <td>WD</td>\n      <td>Normal</td>\n    </tr>\n  </tbody>\n</table>\n<p>5 rows × 80 columns</p>\n</div>"
     },
     "execution_count": 243,
     "metadata": {},
     "output_type": "execute_result"
    }
   ],
   "source": [
    "data = pd.read_csv(\"train.csv\")\n",
    "y = data['SalePrice']\n",
    "X = data.drop('SalePrice', axis=1)\n",
    "X.head()"
   ],
   "metadata": {
    "collapsed": false,
    "ExecuteTime": {
     "end_time": "2024-07-30T18:38:23.292892814Z",
     "start_time": "2024-07-30T18:38:23.024107218Z"
    }
   },
   "id": "3f375d6aeed3e16c"
  },
  {
   "cell_type": "code",
   "execution_count": 244,
   "outputs": [
    {
     "data": {
      "text/plain": "   Id  MSSubClass  LotFrontage  LotArea  OverallQual  OverallCond  YearBuilt  \\\n0   1          60         65.0     8450            7            5       2003   \n1   2          20         80.0     9600            6            8       1976   \n2   3          60         68.0    11250            7            5       2001   \n3   4          70         60.0     9550            7            5       1915   \n4   5          60         84.0    14260            8            5       2000   \n\n   YearRemodAdd  MasVnrArea  BsmtFinSF1  ...  GarageArea  WoodDeckSF  \\\n0          2003       196.0         706  ...         548           0   \n1          1976         0.0         978  ...         460         298   \n2          2002       162.0         486  ...         608           0   \n3          1970         0.0         216  ...         642           0   \n4          2000       350.0         655  ...         836         192   \n\n   OpenPorchSF  EnclosedPorch  3SsnPorch  ScreenPorch  PoolArea  MiscVal  \\\n0           61              0          0            0         0        0   \n1            0              0          0            0         0        0   \n2           42              0          0            0         0        0   \n3           35            272          0            0         0        0   \n4           84              0          0            0         0        0   \n\n   MoSold  YrSold  \n0       2    2008  \n1       5    2007  \n2       9    2008  \n3       2    2006  \n4      12    2008  \n\n[5 rows x 37 columns]",
      "text/html": "<div>\n<style scoped>\n    .dataframe tbody tr th:only-of-type {\n        vertical-align: middle;\n    }\n\n    .dataframe tbody tr th {\n        vertical-align: top;\n    }\n\n    .dataframe thead th {\n        text-align: right;\n    }\n</style>\n<table border=\"1\" class=\"dataframe\">\n  <thead>\n    <tr style=\"text-align: right;\">\n      <th></th>\n      <th>Id</th>\n      <th>MSSubClass</th>\n      <th>LotFrontage</th>\n      <th>LotArea</th>\n      <th>OverallQual</th>\n      <th>OverallCond</th>\n      <th>YearBuilt</th>\n      <th>YearRemodAdd</th>\n      <th>MasVnrArea</th>\n      <th>BsmtFinSF1</th>\n      <th>...</th>\n      <th>GarageArea</th>\n      <th>WoodDeckSF</th>\n      <th>OpenPorchSF</th>\n      <th>EnclosedPorch</th>\n      <th>3SsnPorch</th>\n      <th>ScreenPorch</th>\n      <th>PoolArea</th>\n      <th>MiscVal</th>\n      <th>MoSold</th>\n      <th>YrSold</th>\n    </tr>\n  </thead>\n  <tbody>\n    <tr>\n      <th>0</th>\n      <td>1</td>\n      <td>60</td>\n      <td>65.0</td>\n      <td>8450</td>\n      <td>7</td>\n      <td>5</td>\n      <td>2003</td>\n      <td>2003</td>\n      <td>196.0</td>\n      <td>706</td>\n      <td>...</td>\n      <td>548</td>\n      <td>0</td>\n      <td>61</td>\n      <td>0</td>\n      <td>0</td>\n      <td>0</td>\n      <td>0</td>\n      <td>0</td>\n      <td>2</td>\n      <td>2008</td>\n    </tr>\n    <tr>\n      <th>1</th>\n      <td>2</td>\n      <td>20</td>\n      <td>80.0</td>\n      <td>9600</td>\n      <td>6</td>\n      <td>8</td>\n      <td>1976</td>\n      <td>1976</td>\n      <td>0.0</td>\n      <td>978</td>\n      <td>...</td>\n      <td>460</td>\n      <td>298</td>\n      <td>0</td>\n      <td>0</td>\n      <td>0</td>\n      <td>0</td>\n      <td>0</td>\n      <td>0</td>\n      <td>5</td>\n      <td>2007</td>\n    </tr>\n    <tr>\n      <th>2</th>\n      <td>3</td>\n      <td>60</td>\n      <td>68.0</td>\n      <td>11250</td>\n      <td>7</td>\n      <td>5</td>\n      <td>2001</td>\n      <td>2002</td>\n      <td>162.0</td>\n      <td>486</td>\n      <td>...</td>\n      <td>608</td>\n      <td>0</td>\n      <td>42</td>\n      <td>0</td>\n      <td>0</td>\n      <td>0</td>\n      <td>0</td>\n      <td>0</td>\n      <td>9</td>\n      <td>2008</td>\n    </tr>\n    <tr>\n      <th>3</th>\n      <td>4</td>\n      <td>70</td>\n      <td>60.0</td>\n      <td>9550</td>\n      <td>7</td>\n      <td>5</td>\n      <td>1915</td>\n      <td>1970</td>\n      <td>0.0</td>\n      <td>216</td>\n      <td>...</td>\n      <td>642</td>\n      <td>0</td>\n      <td>35</td>\n      <td>272</td>\n      <td>0</td>\n      <td>0</td>\n      <td>0</td>\n      <td>0</td>\n      <td>2</td>\n      <td>2006</td>\n    </tr>\n    <tr>\n      <th>4</th>\n      <td>5</td>\n      <td>60</td>\n      <td>84.0</td>\n      <td>14260</td>\n      <td>8</td>\n      <td>5</td>\n      <td>2000</td>\n      <td>2000</td>\n      <td>350.0</td>\n      <td>655</td>\n      <td>...</td>\n      <td>836</td>\n      <td>192</td>\n      <td>84</td>\n      <td>0</td>\n      <td>0</td>\n      <td>0</td>\n      <td>0</td>\n      <td>0</td>\n      <td>12</td>\n      <td>2008</td>\n    </tr>\n  </tbody>\n</table>\n<p>5 rows × 37 columns</p>\n</div>"
     },
     "execution_count": 244,
     "metadata": {},
     "output_type": "execute_result"
    }
   ],
   "source": [
    "X.drop('Id', axis=1)\n",
    "numeric_cols = list(X.select_dtypes(include=np.number).columns)\n",
    "X_num = X[numeric_cols]\n",
    "X_num.columns = X[numeric_cols].columns\n",
    "X_num.head()"
   ],
   "metadata": {
    "collapsed": false,
    "ExecuteTime": {
     "end_time": "2024-07-30T18:38:23.466318423Z",
     "start_time": "2024-07-30T18:38:23.044353026Z"
    }
   },
   "id": "f93d42995bc3b2a7"
  },
  {
   "cell_type": "markdown",
   "source": [
    "## First model will use only numeric values and missing values will be imputed with SimpleImputer"
   ],
   "metadata": {
    "collapsed": false
   },
   "id": "7196d8b03b3bd0e1"
  },
  {
   "cell_type": "code",
   "execution_count": 245,
   "outputs": [],
   "source": [
    "from sklearn.impute import SimpleImputer\n",
    "\n",
    "my_imputer = SimpleImputer()\n",
    "\n",
    "def get_train_test_data(X, y, test_size):\n",
    "    X_train, X_test, y_train, y_test = train_test_split(X, y, test_size=test_size)\n",
    "    \n",
    "    imputed_X_train = pd.DataFrame(my_imputer.fit_transform(X_train))\n",
    "    imputed_X_test = pd.DataFrame(my_imputer.transform(X_test))\n",
    "    \n",
    "    imputed_X_train.columns = X_train.columns\n",
    "    imputed_X_test.columns = X_test.columns\n",
    "    \n",
    "    X_train, X_test = imputed_X_train, imputed_X_test\n",
    "    \n",
    "    X_train = torch.tensor(X_train.values, dtype=torch.float32)\n",
    "    X_test = torch.tensor(X_test.values, dtype=torch.float32)\n",
    "    y_train = torch.tensor(y_train.values, dtype=torch.float32).squeeze()\n",
    "    y_test = torch.tensor(y_test.values, dtype=torch.float32).squeeze()\n",
    "    return X_train, X_test, y_train, y_test"
   ],
   "metadata": {
    "collapsed": false,
    "ExecuteTime": {
     "end_time": "2024-07-30T18:38:23.504754316Z",
     "start_time": "2024-07-30T18:38:23.098427812Z"
    }
   },
   "id": "6abb294b85f240c3"
  },
  {
   "cell_type": "code",
   "execution_count": 246,
   "outputs": [],
   "source": [
    "X_train, X_test, y_train, y_test = get_train_test_data(X_num, y, test_size=0.2)\n",
    "X_num = pd.DataFrame(my_imputer.transform(X_num))"
   ],
   "metadata": {
    "collapsed": false,
    "ExecuteTime": {
     "end_time": "2024-07-30T18:38:23.505032437Z",
     "start_time": "2024-07-30T18:38:23.098605818Z"
    }
   },
   "id": "1430845137a86db"
  },
  {
   "cell_type": "code",
   "execution_count": 247,
   "outputs": [],
   "source": [
    "class ModelV1(nn.Module):\n",
    "    def __init__(self, in_features):\n",
    "        super().__init__()\n",
    "        self.layers = nn.Sequential(\n",
    "            nn.Linear(in_features=in_features, out_features=1),\n",
    "            # nn.Linear(in_features=10, out_features=10),\n",
    "            # nn.Linear(in_features=10, out_features=1)\n",
    "        )\n",
    "        \n",
    "    def forward(self, x):\n",
    "        return self.layers(x)"
   ],
   "metadata": {
    "collapsed": false,
    "ExecuteTime": {
     "end_time": "2024-07-30T18:38:23.505113654Z",
     "start_time": "2024-07-30T18:38:23.098664107Z"
    }
   },
   "id": "f33340deaf7665f7"
  },
  {
   "cell_type": "code",
   "execution_count": 248,
   "outputs": [],
   "source": [
    "model1 = ModelV1(in_features=37)\n",
    "\n",
    "loss_fn = nn.L1Loss()\n",
    "optimizer = torch.optim.SGD(params=model1.parameters(), lr=0.0001)"
   ],
   "metadata": {
    "collapsed": false,
    "ExecuteTime": {
     "end_time": "2024-07-30T18:38:23.505174984Z",
     "start_time": "2024-07-30T18:38:23.098710601Z"
    }
   },
   "id": "cfa7ae65ba16ce"
  },
  {
   "cell_type": "code",
   "execution_count": 249,
   "outputs": [
    {
     "data": {
      "text/plain": "tensor([-533.5696, -687.5678, -429.7567,  ..., -836.2488, -845.8161,\n        -626.0494], grad_fn=<SqueezeBackward0>)"
     },
     "execution_count": 249,
     "metadata": {},
     "output_type": "execute_result"
    }
   ],
   "source": [
    "model1.eval()\n",
    "y_pred = model1(X_train).squeeze()\n",
    "y_pred"
   ],
   "metadata": {
    "collapsed": false,
    "ExecuteTime": {
     "end_time": "2024-07-30T18:38:23.505363677Z",
     "start_time": "2024-07-30T18:38:23.098796310Z"
    }
   },
   "id": "1534193b0b21b3c5"
  },
  {
   "cell_type": "code",
   "execution_count": 250,
   "outputs": [],
   "source": [
    "def train_test(model:torch.nn.Module, loss_fn:torch.nn.Module, optimizer:torch.optim.Optimizer, epochs:int, X_train, X_test, y_train, y_test):\n",
    "    \n",
    "    for epoch in range(epochs):\n",
    "        model.train()\n",
    "        y_preds = model(X_train).squeeze()\n",
    "        loss = loss_fn(y_preds, y_train)\n",
    "        \n",
    "        optimizer.zero_grad()\n",
    "        loss.backward()\n",
    "        optimizer.step()\n",
    "        \n",
    "        model.eval()\n",
    "        with (torch.inference_mode()):\n",
    "            test_pred = model(X_test).squeeze()\n",
    "            test_loss = loss_fn(test_pred, y_test)\n",
    "        if epoch % 50 == 0:\n",
    "            print(\"----------------------------\")\n",
    "            print(f\"Epoch {epoch}:\")\n",
    "            print(f\"Train loss: {loss} | Test loss: {test_loss}\")"
   ],
   "metadata": {
    "collapsed": false,
    "ExecuteTime": {
     "end_time": "2024-07-30T18:38:23.505433292Z",
     "start_time": "2024-07-30T18:38:23.098854453Z"
    }
   },
   "id": "99076809838fcd50"
  },
  {
   "cell_type": "code",
   "execution_count": 251,
   "outputs": [
    {
     "name": "stdout",
     "output_type": "stream",
     "text": [
      "----------------------------\n",
      "Epoch 0:\n",
      "Train loss: 182436.15625 | Test loss: 166294.09375\n",
      "----------------------------\n",
      "Epoch 50:\n",
      "Train loss: 59787.87109375 | Test loss: 58783.5078125\n",
      "----------------------------\n",
      "Epoch 100:\n",
      "Train loss: 55803.24609375 | Test loss: 54570.86328125\n",
      "----------------------------\n",
      "Epoch 150:\n",
      "Train loss: 52470.28125 | Test loss: 51039.41796875\n",
      "----------------------------\n",
      "Epoch 200:\n",
      "Train loss: 49978.33984375 | Test loss: 48293.703125\n",
      "----------------------------\n",
      "Epoch 250:\n",
      "Train loss: 48100.69140625 | Test loss: 46118.17578125\n",
      "----------------------------\n",
      "Epoch 300:\n",
      "Train loss: 46602.33203125 | Test loss: 44380.48046875\n",
      "----------------------------\n",
      "Epoch 350:\n",
      "Train loss: 45474.86328125 | Test loss: 43123.46484375\n",
      "----------------------------\n",
      "Epoch 400:\n",
      "Train loss: 44562.43359375 | Test loss: 42121.75\n",
      "----------------------------\n",
      "Epoch 450:\n",
      "Train loss: 43754.6015625 | Test loss: 41192.265625\n",
      "----------------------------\n",
      "Epoch 500:\n",
      "Train loss: 43026.66015625 | Test loss: 40271.171875\n",
      "----------------------------\n",
      "Epoch 550:\n",
      "Train loss: 42391.5859375 | Test loss: 39479.3359375\n",
      "----------------------------\n",
      "Epoch 600:\n",
      "Train loss: 41794.4375 | Test loss: 38720.48046875\n",
      "----------------------------\n",
      "Epoch 650:\n",
      "Train loss: 41233.48046875 | Test loss: 38037.4921875\n",
      "----------------------------\n",
      "Epoch 700:\n",
      "Train loss: 40724.55078125 | Test loss: 37514.5546875\n",
      "----------------------------\n",
      "Epoch 750:\n",
      "Train loss: 40247.390625 | Test loss: 37037.5625\n",
      "----------------------------\n",
      "Epoch 800:\n",
      "Train loss: 39789.984375 | Test loss: 36557.953125\n",
      "----------------------------\n",
      "Epoch 850:\n",
      "Train loss: 39348.69140625 | Test loss: 36075.3671875\n",
      "----------------------------\n",
      "Epoch 900:\n",
      "Train loss: 38920.52734375 | Test loss: 35630.0546875\n",
      "----------------------------\n",
      "Epoch 950:\n",
      "Train loss: 38502.54296875 | Test loss: 35165.70703125\n",
      "----------------------------\n",
      "Epoch 1000:\n",
      "Train loss: 38094.30078125 | Test loss: 34751.828125\n",
      "----------------------------\n",
      "Epoch 1050:\n",
      "Train loss: 37693.89453125 | Test loss: 34346.25390625\n",
      "----------------------------\n",
      "Epoch 1100:\n",
      "Train loss: 37302.28125 | Test loss: 33979.484375\n",
      "----------------------------\n",
      "Epoch 1150:\n",
      "Train loss: 36927.65234375 | Test loss: 33644.70703125\n",
      "----------------------------\n",
      "Epoch 1200:\n",
      "Train loss: 36576.08984375 | Test loss: 33294.65234375\n",
      "----------------------------\n",
      "Epoch 1250:\n",
      "Train loss: 36243.1015625 | Test loss: 32896.6171875\n",
      "----------------------------\n",
      "Epoch 1300:\n",
      "Train loss: 35921.33984375 | Test loss: 32569.208984375\n",
      "----------------------------\n",
      "Epoch 1350:\n",
      "Train loss: 35609.125 | Test loss: 32291.650390625\n",
      "----------------------------\n",
      "Epoch 1400:\n",
      "Train loss: 35303.18359375 | Test loss: 31972.767578125\n",
      "----------------------------\n",
      "Epoch 1450:\n",
      "Train loss: 35002.0234375 | Test loss: 31737.27734375\n",
      "----------------------------\n",
      "Epoch 1500:\n",
      "Train loss: 34707.45703125 | Test loss: 31430.990234375\n",
      "----------------------------\n",
      "Epoch 1550:\n",
      "Train loss: 34425.64453125 | Test loss: 31182.03125\n",
      "----------------------------\n",
      "Epoch 1600:\n",
      "Train loss: 34157.46875 | Test loss: 30943.619140625\n",
      "----------------------------\n",
      "Epoch 1650:\n",
      "Train loss: 33900.69140625 | Test loss: 30751.146484375\n",
      "----------------------------\n",
      "Epoch 1700:\n",
      "Train loss: 33653.84765625 | Test loss: 30554.91015625\n",
      "----------------------------\n",
      "Epoch 1750:\n",
      "Train loss: 33417.859375 | Test loss: 30352.017578125\n",
      "----------------------------\n",
      "Epoch 1800:\n",
      "Train loss: 33194.27734375 | Test loss: 30142.859375\n",
      "----------------------------\n",
      "Epoch 1850:\n",
      "Train loss: 32978.17578125 | Test loss: 29987.376953125\n",
      "----------------------------\n",
      "Epoch 1900:\n",
      "Train loss: 32769.02734375 | Test loss: 29803.3125\n",
      "----------------------------\n",
      "Epoch 1950:\n",
      "Train loss: 32573.294921875 | Test loss: 29605.537109375\n"
     ]
    }
   ],
   "source": [
    "train_test(model=model1, loss_fn=loss_fn, optimizer=optimizer, epochs=2000, X_train=X_train, X_test=X_test, y_train=y_train, y_test=y_test)"
   ],
   "metadata": {
    "collapsed": false,
    "ExecuteTime": {
     "end_time": "2024-07-30T18:38:24.197642773Z",
     "start_time": "2024-07-30T18:38:23.098963598Z"
    }
   },
   "id": "cf68177afdf2c915"
  },
  {
   "cell_type": "markdown",
   "source": [
    "## This results are not great, let's figure out which 5 data columns have the most corelation with SalePrice and use only them"
   ],
   "metadata": {
    "collapsed": false
   },
   "id": "86fb12508d61e8e5"
  },
  {
   "cell_type": "code",
   "execution_count": 252,
   "outputs": [],
   "source": [
    "from sklearn.feature_selection import mutual_info_regression\n",
    "\n",
    "def make_mi_scores(X, y, discrete_features):\n",
    "    mi_scores = mutual_info_regression(X, y, discrete_features=discrete_features)\n",
    "    mi_scores = pd.Series(mi_scores, name=\"MI Scores\", index=X.columns)\n",
    "    mi_scores = mi_scores.sort_values(ascending=False)\n",
    "    return mi_scores"
   ],
   "metadata": {
    "collapsed": false,
    "ExecuteTime": {
     "end_time": "2024-07-30T18:38:24.199092786Z",
     "start_time": "2024-07-30T18:38:24.191415503Z"
    }
   },
   "id": "e8e7e783399b8c90"
  },
  {
   "cell_type": "code",
   "execution_count": 253,
   "outputs": [
    {
     "data": {
      "text/plain": "4     0.568731\n16    0.483868\n12    0.369258\n6     0.363817\n26    0.363205\n27    0.359972\n13    0.310404\nName: MI Scores, dtype: float64"
     },
     "execution_count": 253,
     "metadata": {},
     "output_type": "execute_result"
    }
   ],
   "source": [
    "discrete_features = X_num.dtypes == int\n",
    "\n",
    "mi_scores = make_mi_scores(X_num, y, discrete_features=discrete_features)\n",
    "mi_scores[:7]"
   ],
   "metadata": {
    "collapsed": false,
    "ExecuteTime": {
     "end_time": "2024-07-30T18:38:24.380722411Z",
     "start_time": "2024-07-30T18:38:24.194643434Z"
    }
   },
   "id": "2e7b7d286e2e9220"
  },
  {
   "cell_type": "markdown",
   "source": [
    "## Let's now use only this 7 features in a Model and see if there is any difference in performance"
   ],
   "metadata": {
    "collapsed": false
   },
   "id": "3d35d8f0f804fcc5"
  },
  {
   "cell_type": "code",
   "execution_count": 254,
   "outputs": [],
   "source": [
    "model2 = ModelV1(in_features=7)\n",
    "lista = list(mi_scores[:7].index)\n",
    "for i in lista:\n",
    "    i -= 1\n",
    "X_num_2 = X_num[lista]\n",
    "X_train, X_test, y_train, y_test = get_train_test_data(X_num_2, y, test_size=0.2)\n",
    "optimizer_2 = torch.optim.SGD(params=model2.parameters(), lr=0.001)"
   ],
   "metadata": {
    "collapsed": false,
    "ExecuteTime": {
     "end_time": "2024-07-30T18:38:24.398333305Z",
     "start_time": "2024-07-30T18:38:24.382223694Z"
    }
   },
   "id": "669c09d2f00993d0"
  },
  {
   "cell_type": "code",
   "execution_count": 255,
   "outputs": [
    {
     "name": "stdout",
     "output_type": "stream",
     "text": [
      "----------------------------\n",
      "Epoch 0:\n",
      "Train loss: 179759.234375 | Test loss: 168484.21875\n",
      "----------------------------\n",
      "Epoch 50:\n",
      "Train loss: 38941.55078125 | Test loss: 36424.44921875\n",
      "----------------------------\n",
      "Epoch 100:\n",
      "Train loss: 37194.15234375 | Test loss: 34685.140625\n",
      "----------------------------\n",
      "Epoch 150:\n",
      "Train loss: 35768.69921875 | Test loss: 33292.59765625\n",
      "----------------------------\n",
      "Epoch 200:\n",
      "Train loss: 34592.20703125 | Test loss: 32282.595703125\n",
      "----------------------------\n",
      "Epoch 250:\n",
      "Train loss: 33646.3203125 | Test loss: 31482.119140625\n",
      "----------------------------\n",
      "Epoch 300:\n",
      "Train loss: 32891.6328125 | Test loss: 30847.267578125\n",
      "----------------------------\n",
      "Epoch 350:\n",
      "Train loss: 32348.75390625 | Test loss: 30399.876953125\n",
      "----------------------------\n",
      "Epoch 400:\n",
      "Train loss: 31954.017578125 | Test loss: 30042.16796875\n",
      "----------------------------\n",
      "Epoch 450:\n",
      "Train loss: 31665.53125 | Test loss: 29770.03515625\n",
      "----------------------------\n",
      "Epoch 500:\n",
      "Train loss: 31422.322265625 | Test loss: 29528.9921875\n",
      "----------------------------\n",
      "Epoch 550:\n",
      "Train loss: 31224.75390625 | Test loss: 29319.701171875\n",
      "----------------------------\n",
      "Epoch 600:\n",
      "Train loss: 31043.099609375 | Test loss: 29139.28125\n",
      "----------------------------\n",
      "Epoch 650:\n",
      "Train loss: 30880.69921875 | Test loss: 28975.267578125\n",
      "----------------------------\n",
      "Epoch 700:\n",
      "Train loss: 30743.1328125 | Test loss: 28826.451171875\n",
      "----------------------------\n",
      "Epoch 750:\n",
      "Train loss: 30624.4921875 | Test loss: 28707.951171875\n",
      "----------------------------\n",
      "Epoch 800:\n",
      "Train loss: 30520.822265625 | Test loss: 28606.73828125\n",
      "----------------------------\n",
      "Epoch 850:\n",
      "Train loss: 30427.619140625 | Test loss: 28517.607421875\n",
      "----------------------------\n",
      "Epoch 900:\n",
      "Train loss: 30343.396484375 | Test loss: 28428.171875\n",
      "----------------------------\n",
      "Epoch 950:\n",
      "Train loss: 30274.322265625 | Test loss: 28342.921875\n",
      "----------------------------\n",
      "Epoch 1000:\n",
      "Train loss: 30209.03125 | Test loss: 28261.9609375\n",
      "----------------------------\n",
      "Epoch 1050:\n",
      "Train loss: 30145.671875 | Test loss: 28181.837890625\n",
      "----------------------------\n",
      "Epoch 1100:\n",
      "Train loss: 30085.123046875 | Test loss: 28105.169921875\n",
      "----------------------------\n",
      "Epoch 1150:\n",
      "Train loss: 30028.544921875 | Test loss: 28040.681640625\n",
      "----------------------------\n",
      "Epoch 1200:\n",
      "Train loss: 29977.572265625 | Test loss: 27973.28125\n",
      "----------------------------\n",
      "Epoch 1250:\n",
      "Train loss: 29930.619140625 | Test loss: 27912.298828125\n",
      "----------------------------\n",
      "Epoch 1300:\n",
      "Train loss: 29886.673828125 | Test loss: 27857.25390625\n",
      "----------------------------\n",
      "Epoch 1350:\n",
      "Train loss: 29844.890625 | Test loss: 27807.71484375\n",
      "----------------------------\n",
      "Epoch 1400:\n",
      "Train loss: 29806.322265625 | Test loss: 27761.6484375\n",
      "----------------------------\n",
      "Epoch 1450:\n",
      "Train loss: 29769.150390625 | Test loss: 27718.044921875\n",
      "----------------------------\n",
      "Epoch 1500:\n",
      "Train loss: 29733.123046875 | Test loss: 27691.1328125\n",
      "----------------------------\n",
      "Epoch 1550:\n",
      "Train loss: 29698.955078125 | Test loss: 27661.83984375\n",
      "----------------------------\n",
      "Epoch 1600:\n",
      "Train loss: 29666.814453125 | Test loss: 27638.80078125\n",
      "----------------------------\n",
      "Epoch 1650:\n",
      "Train loss: 29639.10546875 | Test loss: 27607.521484375\n",
      "----------------------------\n",
      "Epoch 1700:\n",
      "Train loss: 29612.841796875 | Test loss: 27564.951171875\n",
      "----------------------------\n",
      "Epoch 1750:\n",
      "Train loss: 29588.486328125 | Test loss: 27552.021484375\n",
      "----------------------------\n",
      "Epoch 1800:\n",
      "Train loss: 29565.701171875 | Test loss: 27532.03515625\n",
      "----------------------------\n",
      "Epoch 1850:\n",
      "Train loss: 29543.72265625 | Test loss: 27522.951171875\n",
      "----------------------------\n",
      "Epoch 1900:\n",
      "Train loss: 29522.267578125 | Test loss: 27516.57421875\n",
      "----------------------------\n",
      "Epoch 1950:\n",
      "Train loss: 29503.486328125 | Test loss: 27514.5625\n"
     ]
    }
   ],
   "source": [
    "train_test(model=model2, loss_fn=loss_fn, optimizer=optimizer_2, epochs=2000, X_train=X_train, X_test=X_test, y_train=y_train, y_test=y_test)"
   ],
   "metadata": {
    "collapsed": false,
    "ExecuteTime": {
     "end_time": "2024-07-30T18:38:24.820054622Z",
     "start_time": "2024-07-30T18:38:24.389014350Z"
    }
   },
   "id": "84eeee795b86b4c5"
  },
  {
   "cell_type": "markdown",
   "source": [
    "## Now let's try to normalize data and see whether it improves our result or not"
   ],
   "metadata": {
    "collapsed": false
   },
   "id": "c0109b661b6b2c0c"
  },
  {
   "cell_type": "code",
   "execution_count": 256,
   "outputs": [],
   "source": [
    "X_num_3 = X_num_2\n",
    "y_normalized = pd.DataFrame(torch.nn.functional.normalize(torch.tensor(y, dtype=torch.float32).unsqueeze(dim=1)))\n",
    "X_train, X_test, y_train, y_test = get_train_test_data(X_num_3, y_normalized, test_size=0.2)\n",
    "X_train, X_test = torch.nn.functional.normalize(X_train), torch.nn.functional.normalize(X_test)"
   ],
   "metadata": {
    "collapsed": false,
    "ExecuteTime": {
     "end_time": "2024-07-30T18:38:24.847101432Z",
     "start_time": "2024-07-30T18:38:24.804838920Z"
    }
   },
   "id": "35286dbc2acaba91"
  },
  {
   "cell_type": "code",
   "execution_count": 257,
   "outputs": [],
   "source": [
    "model3 = ModelV1(in_features=7)\n",
    "optimizer_3 = torch.optim.SGD(params=model3.parameters(), lr=0.001)"
   ],
   "metadata": {
    "collapsed": false,
    "ExecuteTime": {
     "end_time": "2024-07-30T18:38:24.847305233Z",
     "start_time": "2024-07-30T18:38:24.846382909Z"
    }
   },
   "id": "2a561fb63a6745c0"
  },
  {
   "cell_type": "code",
   "execution_count": 258,
   "outputs": [
    {
     "name": "stdout",
     "output_type": "stream",
     "text": [
      "----------------------------\n",
      "Epoch 0:\n",
      "Train loss: 1.082661509513855 | Test loss: 1.081758737564087\n",
      "----------------------------\n",
      "Epoch 50:\n",
      "Train loss: 0.9845773577690125 | Test loss: 0.983674168586731\n",
      "----------------------------\n",
      "Epoch 100:\n",
      "Train loss: 0.8864930272102356 | Test loss: 0.8855893611907959\n",
      "----------------------------\n",
      "Epoch 150:\n",
      "Train loss: 0.7884080410003662 | Test loss: 0.7875040769577026\n",
      "----------------------------\n",
      "Epoch 200:\n",
      "Train loss: 0.6903231143951416 | Test loss: 0.6894187927246094\n",
      "----------------------------\n",
      "Epoch 250:\n",
      "Train loss: 0.5922382473945618 | Test loss: 0.5913335084915161\n",
      "----------------------------\n",
      "Epoch 300:\n",
      "Train loss: 0.4941532611846924 | Test loss: 0.49324819445610046\n",
      "----------------------------\n",
      "Epoch 350:\n",
      "Train loss: 0.3960684537887573 | Test loss: 0.395162969827652\n",
      "----------------------------\n",
      "Epoch 400:\n",
      "Train loss: 0.2979835569858551 | Test loss: 0.2970777451992035\n",
      "----------------------------\n",
      "Epoch 450:\n",
      "Train loss: 0.1998986303806305 | Test loss: 0.19899247586727142\n",
      "----------------------------\n",
      "Epoch 500:\n",
      "Train loss: 0.10181368142366409 | Test loss: 0.10090715438127518\n",
      "----------------------------\n",
      "Epoch 550:\n",
      "Train loss: 0.03276010602712631 | Test loss: 0.03286063298583031\n",
      "----------------------------\n",
      "Epoch 600:\n",
      "Train loss: 0.02805672585964203 | Test loss: 0.028224317356944084\n",
      "----------------------------\n",
      "Epoch 650:\n",
      "Train loss: 0.027136294171214104 | Test loss: 0.02729039080440998\n",
      "----------------------------\n",
      "Epoch 700:\n",
      "Train loss: 0.02659999579191208 | Test loss: 0.02676064893603325\n",
      "----------------------------\n",
      "Epoch 750:\n",
      "Train loss: 0.026112450286746025 | Test loss: 0.026289358735084534\n",
      "----------------------------\n",
      "Epoch 800:\n",
      "Train loss: 0.025638801977038383 | Test loss: 0.02582232840359211\n",
      "----------------------------\n",
      "Epoch 850:\n",
      "Train loss: 0.0251670740544796 | Test loss: 0.02535467967391014\n",
      "----------------------------\n",
      "Epoch 900:\n",
      "Train loss: 0.02469940111041069 | Test loss: 0.024888020008802414\n",
      "----------------------------\n",
      "Epoch 950:\n",
      "Train loss: 0.024235980585217476 | Test loss: 0.02442345954477787\n",
      "----------------------------\n",
      "Epoch 1000:\n",
      "Train loss: 0.023773156106472015 | Test loss: 0.023960955440998077\n",
      "----------------------------\n",
      "Epoch 1050:\n",
      "Train loss: 0.023311464115977287 | Test loss: 0.02349880151450634\n",
      "----------------------------\n",
      "Epoch 1100:\n",
      "Train loss: 0.022851036861538887 | Test loss: 0.02303779497742653\n",
      "----------------------------\n",
      "Epoch 1150:\n",
      "Train loss: 0.022391006350517273 | Test loss: 0.02257692627608776\n",
      "----------------------------\n",
      "Epoch 1200:\n",
      "Train loss: 0.02193227782845497 | Test loss: 0.02211695909500122\n",
      "----------------------------\n",
      "Epoch 1250:\n",
      "Train loss: 0.021475454792380333 | Test loss: 0.02165917120873928\n",
      "----------------------------\n",
      "Epoch 1300:\n",
      "Train loss: 0.02101992815732956 | Test loss: 0.021201830357313156\n",
      "----------------------------\n",
      "Epoch 1350:\n",
      "Train loss: 0.02056671492755413 | Test loss: 0.020757565274834633\n",
      "----------------------------\n",
      "Epoch 1400:\n",
      "Train loss: 0.02011830173432827 | Test loss: 0.020318713039159775\n",
      "----------------------------\n",
      "Epoch 1450:\n",
      "Train loss: 0.019675560295581818 | Test loss: 0.0198755394667387\n",
      "----------------------------\n",
      "Epoch 1500:\n",
      "Train loss: 0.01924245059490204 | Test loss: 0.01944357343018055\n",
      "----------------------------\n",
      "Epoch 1550:\n",
      "Train loss: 0.0188111774623394 | Test loss: 0.019022328779101372\n",
      "----------------------------\n",
      "Epoch 1600:\n",
      "Train loss: 0.01838107965886593 | Test loss: 0.01860690675675869\n",
      "----------------------------\n",
      "Epoch 1650:\n",
      "Train loss: 0.01795264519751072 | Test loss: 0.0181929599493742\n",
      "----------------------------\n",
      "Epoch 1700:\n",
      "Train loss: 0.017526833340525627 | Test loss: 0.017778966575860977\n",
      "----------------------------\n",
      "Epoch 1750:\n",
      "Train loss: 0.017101824283599854 | Test loss: 0.017366405576467514\n",
      "----------------------------\n",
      "Epoch 1800:\n",
      "Train loss: 0.016679052263498306 | Test loss: 0.01695697195827961\n",
      "----------------------------\n",
      "Epoch 1850:\n",
      "Train loss: 0.01626146398484707 | Test loss: 0.01654799096286297\n",
      "----------------------------\n",
      "Epoch 1900:\n",
      "Train loss: 0.015850476920604706 | Test loss: 0.016144493594765663\n",
      "----------------------------\n",
      "Epoch 1950:\n",
      "Train loss: 0.015450254082679749 | Test loss: 0.01574830524623394\n",
      "----------------------------\n",
      "Epoch 2000:\n",
      "Train loss: 0.015055409632623196 | Test loss: 0.015357280150055885\n"
     ]
    }
   ],
   "source": [
    "train_test(model=model3, loss_fn=loss_fn, optimizer=optimizer_3, epochs=2001, X_train=X_train, X_test=X_test, y_train=y_train, y_test=y_test)"
   ],
   "metadata": {
    "collapsed": false,
    "ExecuteTime": {
     "end_time": "2024-07-30T18:38:25.250964293Z",
     "start_time": "2024-07-30T18:38:24.846483006Z"
    }
   },
   "id": "4c30bf9e2e26b5e7"
  },
  {
   "cell_type": "markdown",
   "source": [
    "## Let's try now with more complicated model"
   ],
   "metadata": {
    "collapsed": false
   },
   "id": "30ebc001f520a21a"
  },
  {
   "cell_type": "code",
   "execution_count": 259,
   "outputs": [],
   "source": [
    "X_train, X_test, y_train, y_test = get_train_test_data(X_num, y, test_size=0.2)"
   ],
   "metadata": {
    "collapsed": false,
    "ExecuteTime": {
     "end_time": "2024-07-30T18:38:25.275447027Z",
     "start_time": "2024-07-30T18:38:25.252106653Z"
    }
   },
   "id": "bf2afca4710f282b"
  },
  {
   "cell_type": "code",
   "execution_count": 260,
   "outputs": [],
   "source": [
    "class ModelV2(nn.Module):\n",
    "    def __init__(self, in_features):\n",
    "        super().__init__()\n",
    "        self.layer = nn.Sequential(\n",
    "            nn.Linear(in_features=in_features, out_features=10),\n",
    "            nn.Linear(in_features=10, out_features=10),\n",
    "            nn.Linear(in_features=10, out_features=1)\n",
    "        )\n",
    "        \n",
    "    def forward(self, x):\n",
    "        return self.layer(x)"
   ],
   "metadata": {
    "collapsed": false,
    "ExecuteTime": {
     "end_time": "2024-07-30T18:38:25.275702037Z",
     "start_time": "2024-07-30T18:38:25.261179090Z"
    }
   },
   "id": "981238182a99652f"
  },
  {
   "cell_type": "code",
   "execution_count": 261,
   "outputs": [],
   "source": [
    "model4 = ModelV2(37)\n",
    "loss_fn = nn.L1Loss()\n",
    "optimizer_4 = torch.optim.Adam(model4.parameters(), lr=0.01, weight_decay=1e-5)"
   ],
   "metadata": {
    "collapsed": false,
    "ExecuteTime": {
     "end_time": "2024-07-30T18:38:25.275828366Z",
     "start_time": "2024-07-30T18:38:25.264438338Z"
    }
   },
   "id": "7e3837a525559f1d"
  },
  {
   "cell_type": "code",
   "execution_count": 262,
   "outputs": [
    {
     "name": "stdout",
     "output_type": "stream",
     "text": [
      "----------------------------\n",
      "Epoch 0:\n",
      "Train loss: 180185.234375 | Test loss: 181588.0625\n",
      "----------------------------\n",
      "Epoch 50:\n",
      "Train loss: 48170.96875 | Test loss: 54422.11328125\n",
      "----------------------------\n",
      "Epoch 100:\n",
      "Train loss: 40470.79296875 | Test loss: 46123.33984375\n",
      "----------------------------\n",
      "Epoch 150:\n",
      "Train loss: 32701.75390625 | Test loss: 37445.71875\n",
      "----------------------------\n",
      "Epoch 200:\n",
      "Train loss: 27255.78125 | Test loss: 32690.876953125\n",
      "----------------------------\n",
      "Epoch 250:\n",
      "Train loss: 26295.34765625 | Test loss: 32284.373046875\n",
      "----------------------------\n",
      "Epoch 300:\n",
      "Train loss: 26095.6328125 | Test loss: 32142.9765625\n",
      "----------------------------\n",
      "Epoch 350:\n",
      "Train loss: 25983.078125 | Test loss: 31996.14453125\n",
      "----------------------------\n",
      "Epoch 400:\n",
      "Train loss: 25901.673828125 | Test loss: 31825.068359375\n",
      "----------------------------\n",
      "Epoch 450:\n",
      "Train loss: 25845.037109375 | Test loss: 31592.794921875\n",
      "----------------------------\n",
      "Epoch 500:\n",
      "Train loss: 25801.14453125 | Test loss: 31455.076171875\n",
      "----------------------------\n",
      "Epoch 550:\n",
      "Train loss: 25768.1875 | Test loss: 31349.9140625\n",
      "----------------------------\n",
      "Epoch 600:\n",
      "Train loss: 25739.3203125 | Test loss: 31313.53515625\n",
      "----------------------------\n",
      "Epoch 650:\n",
      "Train loss: 25713.623046875 | Test loss: 31299.2265625\n",
      "----------------------------\n",
      "Epoch 700:\n",
      "Train loss: 25692.447265625 | Test loss: 31243.380859375\n",
      "----------------------------\n",
      "Epoch 750:\n",
      "Train loss: 25672.08984375 | Test loss: 31191.2265625\n",
      "----------------------------\n",
      "Epoch 800:\n",
      "Train loss: 25651.6328125 | Test loss: 31153.0\n",
      "----------------------------\n",
      "Epoch 850:\n",
      "Train loss: 25629.61328125 | Test loss: 31147.685546875\n",
      "----------------------------\n",
      "Epoch 900:\n",
      "Train loss: 25607.96484375 | Test loss: 31142.08203125\n",
      "----------------------------\n",
      "Epoch 950:\n",
      "Train loss: 25585.826171875 | Test loss: 31076.259765625\n",
      "----------------------------\n",
      "Epoch 1000:\n",
      "Train loss: 25561.38671875 | Test loss: 31073.4375\n",
      "----------------------------\n",
      "Epoch 1050:\n",
      "Train loss: 25536.330078125 | Test loss: 31056.794921875\n",
      "----------------------------\n",
      "Epoch 1100:\n",
      "Train loss: 25507.068359375 | Test loss: 31047.1640625\n",
      "----------------------------\n",
      "Epoch 1150:\n",
      "Train loss: 25480.759765625 | Test loss: 31011.712890625\n",
      "----------------------------\n",
      "Epoch 1200:\n",
      "Train loss: 25450.013671875 | Test loss: 30981.728515625\n",
      "----------------------------\n",
      "Epoch 1250:\n",
      "Train loss: 25435.802734375 | Test loss: 30887.05859375\n",
      "----------------------------\n",
      "Epoch 1300:\n",
      "Train loss: 25378.43359375 | Test loss: 30876.85546875\n",
      "----------------------------\n",
      "Epoch 1350:\n",
      "Train loss: 25337.72265625 | Test loss: 30831.732421875\n",
      "----------------------------\n",
      "Epoch 1400:\n",
      "Train loss: 25297.322265625 | Test loss: 30763.935546875\n",
      "----------------------------\n",
      "Epoch 1450:\n",
      "Train loss: 25253.412109375 | Test loss: 30680.4453125\n",
      "----------------------------\n",
      "Epoch 1500:\n",
      "Train loss: 25196.0 | Test loss: 30651.140625\n",
      "----------------------------\n",
      "Epoch 1550:\n",
      "Train loss: 25134.109375 | Test loss: 30568.96484375\n",
      "----------------------------\n",
      "Epoch 1600:\n",
      "Train loss: 25063.30859375 | Test loss: 30534.85546875\n",
      "----------------------------\n",
      "Epoch 1650:\n",
      "Train loss: 25037.927734375 | Test loss: 30356.88671875\n",
      "----------------------------\n",
      "Epoch 1700:\n",
      "Train loss: 24899.974609375 | Test loss: 30232.4765625\n",
      "----------------------------\n",
      "Epoch 1750:\n",
      "Train loss: 24819.208984375 | Test loss: 30304.150390625\n",
      "----------------------------\n",
      "Epoch 1800:\n",
      "Train loss: 24760.708984375 | Test loss: 29898.314453125\n",
      "----------------------------\n",
      "Epoch 1850:\n",
      "Train loss: 24569.41015625 | Test loss: 29662.271484375\n",
      "----------------------------\n",
      "Epoch 1900:\n",
      "Train loss: 24359.02734375 | Test loss: 29553.6328125\n",
      "----------------------------\n",
      "Epoch 1950:\n",
      "Train loss: 24161.77734375 | Test loss: 29352.3125\n"
     ]
    }
   ],
   "source": [
    "train_test(model4, loss_fn=loss_fn, optimizer=optimizer_4, epochs=2000, X_train=X_train, X_test=X_test, y_train=y_train, y_test=y_test)"
   ],
   "metadata": {
    "collapsed": false,
    "ExecuteTime": {
     "end_time": "2024-07-30T18:38:27.468669719Z",
     "start_time": "2024-07-30T18:38:25.270416196Z"
    }
   },
   "id": "ce6c6da6208f2ba9"
  },
  {
   "cell_type": "markdown",
   "source": [
    "## Let's now try using categorical variables"
   ],
   "metadata": {
    "collapsed": false
   },
   "id": "c03ff6501c733923"
  },
  {
   "cell_type": "code",
   "execution_count": 263,
   "outputs": [
    {
     "data": {
      "text/plain": "     0    1     2        3    4         5    6    7    8    9   ...   69   70  \\\n0  60.0  3.0  65.0   8450.0  1.0  0.450549  3.0  3.0  0.0  4.0  ...  0.0  0.0   \n1  20.0  3.0  80.0   9600.0  1.0  0.450549  3.0  3.0  0.0  2.0  ...  0.0  0.0   \n2  60.0  3.0  68.0  11250.0  1.0  0.450549  0.0  3.0  0.0  4.0  ...  0.0  0.0   \n3  70.0  3.0  60.0   9550.0  1.0  0.450549  0.0  3.0  0.0  0.0  ...  0.0  0.0   \n4  60.0  3.0  84.0  14260.0  1.0  0.450549  0.0  3.0  0.0  2.0  ...  0.0  0.0   \n\n         71        72        73   74    75      76   77   78  \n0  1.142857  1.427046  1.907407  0.0   2.0  2008.0  8.0  4.0  \n1  1.142857  1.427046  1.907407  0.0   5.0  2007.0  8.0  4.0  \n2  1.142857  1.427046  1.907407  0.0   9.0  2008.0  8.0  4.0  \n3  1.142857  1.427046  1.907407  0.0   2.0  2006.0  8.0  0.0  \n4  1.142857  1.427046  1.907407  0.0  12.0  2008.0  8.0  4.0  \n\n[5 rows x 79 columns]",
      "text/html": "<div>\n<style scoped>\n    .dataframe tbody tr th:only-of-type {\n        vertical-align: middle;\n    }\n\n    .dataframe tbody tr th {\n        vertical-align: top;\n    }\n\n    .dataframe thead th {\n        text-align: right;\n    }\n</style>\n<table border=\"1\" class=\"dataframe\">\n  <thead>\n    <tr style=\"text-align: right;\">\n      <th></th>\n      <th>0</th>\n      <th>1</th>\n      <th>2</th>\n      <th>3</th>\n      <th>4</th>\n      <th>5</th>\n      <th>6</th>\n      <th>7</th>\n      <th>8</th>\n      <th>9</th>\n      <th>...</th>\n      <th>69</th>\n      <th>70</th>\n      <th>71</th>\n      <th>72</th>\n      <th>73</th>\n      <th>74</th>\n      <th>75</th>\n      <th>76</th>\n      <th>77</th>\n      <th>78</th>\n    </tr>\n  </thead>\n  <tbody>\n    <tr>\n      <th>0</th>\n      <td>60.0</td>\n      <td>3.0</td>\n      <td>65.0</td>\n      <td>8450.0</td>\n      <td>1.0</td>\n      <td>0.450549</td>\n      <td>3.0</td>\n      <td>3.0</td>\n      <td>0.0</td>\n      <td>4.0</td>\n      <td>...</td>\n      <td>0.0</td>\n      <td>0.0</td>\n      <td>1.142857</td>\n      <td>1.427046</td>\n      <td>1.907407</td>\n      <td>0.0</td>\n      <td>2.0</td>\n      <td>2008.0</td>\n      <td>8.0</td>\n      <td>4.0</td>\n    </tr>\n    <tr>\n      <th>1</th>\n      <td>20.0</td>\n      <td>3.0</td>\n      <td>80.0</td>\n      <td>9600.0</td>\n      <td>1.0</td>\n      <td>0.450549</td>\n      <td>3.0</td>\n      <td>3.0</td>\n      <td>0.0</td>\n      <td>2.0</td>\n      <td>...</td>\n      <td>0.0</td>\n      <td>0.0</td>\n      <td>1.142857</td>\n      <td>1.427046</td>\n      <td>1.907407</td>\n      <td>0.0</td>\n      <td>5.0</td>\n      <td>2007.0</td>\n      <td>8.0</td>\n      <td>4.0</td>\n    </tr>\n    <tr>\n      <th>2</th>\n      <td>60.0</td>\n      <td>3.0</td>\n      <td>68.0</td>\n      <td>11250.0</td>\n      <td>1.0</td>\n      <td>0.450549</td>\n      <td>0.0</td>\n      <td>3.0</td>\n      <td>0.0</td>\n      <td>4.0</td>\n      <td>...</td>\n      <td>0.0</td>\n      <td>0.0</td>\n      <td>1.142857</td>\n      <td>1.427046</td>\n      <td>1.907407</td>\n      <td>0.0</td>\n      <td>9.0</td>\n      <td>2008.0</td>\n      <td>8.0</td>\n      <td>4.0</td>\n    </tr>\n    <tr>\n      <th>3</th>\n      <td>70.0</td>\n      <td>3.0</td>\n      <td>60.0</td>\n      <td>9550.0</td>\n      <td>1.0</td>\n      <td>0.450549</td>\n      <td>0.0</td>\n      <td>3.0</td>\n      <td>0.0</td>\n      <td>0.0</td>\n      <td>...</td>\n      <td>0.0</td>\n      <td>0.0</td>\n      <td>1.142857</td>\n      <td>1.427046</td>\n      <td>1.907407</td>\n      <td>0.0</td>\n      <td>2.0</td>\n      <td>2006.0</td>\n      <td>8.0</td>\n      <td>0.0</td>\n    </tr>\n    <tr>\n      <th>4</th>\n      <td>60.0</td>\n      <td>3.0</td>\n      <td>84.0</td>\n      <td>14260.0</td>\n      <td>1.0</td>\n      <td>0.450549</td>\n      <td>0.0</td>\n      <td>3.0</td>\n      <td>0.0</td>\n      <td>2.0</td>\n      <td>...</td>\n      <td>0.0</td>\n      <td>0.0</td>\n      <td>1.142857</td>\n      <td>1.427046</td>\n      <td>1.907407</td>\n      <td>0.0</td>\n      <td>12.0</td>\n      <td>2008.0</td>\n      <td>8.0</td>\n      <td>4.0</td>\n    </tr>\n  </tbody>\n</table>\n<p>5 rows × 79 columns</p>\n</div>"
     },
     "execution_count": 263,
     "metadata": {},
     "output_type": "execute_result"
    }
   ],
   "source": [
    "from sklearn.preprocessing import OrdinalEncoder\n",
    "\n",
    "label_X = X.copy()\n",
    "\n",
    "s = (X.dtypes == 'object')\n",
    "object_cols = list(s[s].index)\n",
    "\n",
    "ordinal_encoder = OrdinalEncoder()\n",
    "label_X[object_cols] = ordinal_encoder.fit_transform(X[object_cols])\n",
    "label_X = label_X.drop('Id', axis=1)\n",
    "label_X = pd.DataFrame(my_imputer.fit_transform(label_X))\n",
    "label_X.head()"
   ],
   "metadata": {
    "collapsed": false,
    "ExecuteTime": {
     "end_time": "2024-07-30T18:38:27.530011862Z",
     "start_time": "2024-07-30T18:38:27.469936850Z"
    }
   },
   "id": "c67f59f200040611"
  },
  {
   "cell_type": "code",
   "execution_count": 264,
   "outputs": [
    {
     "data": {
      "text/plain": "16    0.573534\n11    0.532615\n61    0.494348\n45    0.432078\n18    0.410554\n37    0.399014\n3     0.393403\n60    0.368253\n58    0.345855\n26    0.332348\nName: MI Scores, dtype: float64"
     },
     "execution_count": 264,
     "metadata": {},
     "output_type": "execute_result"
    }
   ],
   "source": [
    "mi_scores_all = make_mi_scores(label_X, y, discrete_features=label_X.columns)\n",
    "mi_scores_all[:10]"
   ],
   "metadata": {
    "collapsed": false,
    "ExecuteTime": {
     "end_time": "2024-07-30T18:38:29.384027289Z",
     "start_time": "2024-07-30T18:38:27.519244408Z"
    }
   },
   "id": "1cff204df4397bcd"
  },
  {
   "cell_type": "code",
   "execution_count": 265,
   "outputs": [],
   "source": [
    "useful_data = list(mi_scores_all[mi_scores_all.gt(0.2)].index)\n",
    "label_X = label_X[useful_data]"
   ],
   "metadata": {
    "collapsed": false,
    "ExecuteTime": {
     "end_time": "2024-07-30T18:38:29.384255572Z",
     "start_time": "2024-07-30T18:38:29.374794191Z"
    }
   },
   "id": "4a0f701befc650a7"
  },
  {
   "cell_type": "code",
   "execution_count": 266,
   "outputs": [],
   "source": [
    "X_train, X_test, y_train, y_test = get_train_test_data(label_X, y, test_size=0.2)"
   ],
   "metadata": {
    "collapsed": false,
    "ExecuteTime": {
     "end_time": "2024-07-30T18:38:29.430659838Z",
     "start_time": "2024-07-30T18:38:29.378668229Z"
    }
   },
   "id": "6f22e6fcb6e51fce"
  },
  {
   "cell_type": "code",
   "execution_count": 293,
   "outputs": [],
   "source": [
    "model5 = ModelV2(len(useful_data))\n",
    "optimizer_5 = torch.optim.Adam(params=model5.parameters(), lr=0.02, weight_decay=1e-4)"
   ],
   "metadata": {
    "collapsed": false,
    "ExecuteTime": {
     "end_time": "2024-07-30T18:42:06.035327520Z",
     "start_time": "2024-07-30T18:42:05.985426524Z"
    }
   },
   "id": "fac3ade3420abb10"
  },
  {
   "cell_type": "code",
   "execution_count": 294,
   "outputs": [
    {
     "name": "stdout",
     "output_type": "stream",
     "text": [
      "----------------------------\n",
      "Epoch 0:\n",
      "Train loss: 182317.1875 | Test loss: 176460.765625\n",
      "----------------------------\n",
      "Epoch 50:\n",
      "Train loss: 50928.8828125 | Test loss: 51278.4453125\n",
      "----------------------------\n",
      "Epoch 100:\n",
      "Train loss: 39822.203125 | Test loss: 35593.58203125\n",
      "----------------------------\n",
      "Epoch 150:\n",
      "Train loss: 30334.123046875 | Test loss: 27949.6484375\n",
      "----------------------------\n",
      "Epoch 200:\n",
      "Train loss: 29332.9140625 | Test loss: 26845.59375\n",
      "----------------------------\n",
      "Epoch 250:\n",
      "Train loss: 29056.873046875 | Test loss: 26638.46484375\n",
      "----------------------------\n",
      "Epoch 300:\n",
      "Train loss: 28936.041015625 | Test loss: 26552.19921875\n",
      "----------------------------\n",
      "Epoch 350:\n",
      "Train loss: 28853.2734375 | Test loss: 26344.345703125\n",
      "----------------------------\n",
      "Epoch 400:\n",
      "Train loss: 28758.630859375 | Test loss: 26264.69921875\n",
      "----------------------------\n",
      "Epoch 450:\n",
      "Train loss: 28646.9921875 | Test loss: 26279.646484375\n",
      "----------------------------\n",
      "Epoch 500:\n",
      "Train loss: 28550.39453125 | Test loss: 25869.75390625\n",
      "----------------------------\n",
      "Epoch 550:\n",
      "Train loss: 28448.46484375 | Test loss: 25835.529296875\n",
      "----------------------------\n",
      "Epoch 600:\n",
      "Train loss: 28271.30859375 | Test loss: 25600.474609375\n",
      "----------------------------\n",
      "Epoch 650:\n",
      "Train loss: 28128.109375 | Test loss: 25249.87890625\n",
      "----------------------------\n",
      "Epoch 700:\n",
      "Train loss: 27920.787109375 | Test loss: 25310.919921875\n",
      "----------------------------\n",
      "Epoch 750:\n",
      "Train loss: 27720.1015625 | Test loss: 24726.9375\n",
      "----------------------------\n",
      "Epoch 800:\n",
      "Train loss: 27419.97265625 | Test loss: 24605.267578125\n",
      "----------------------------\n",
      "Epoch 850:\n",
      "Train loss: 27036.12890625 | Test loss: 25338.130859375\n",
      "----------------------------\n",
      "Epoch 900:\n",
      "Train loss: 26830.66796875 | Test loss: 23773.544921875\n",
      "----------------------------\n",
      "Epoch 950:\n",
      "Train loss: 26203.013671875 | Test loss: 23283.171875\n",
      "----------------------------\n",
      "Epoch 1000:\n",
      "Train loss: 26478.8359375 | Test loss: 23127.451171875\n",
      "----------------------------\n",
      "Epoch 1050:\n",
      "Train loss: 25368.19921875 | Test loss: 23167.896484375\n",
      "----------------------------\n",
      "Epoch 1100:\n",
      "Train loss: 25028.69921875 | Test loss: 23049.78125\n",
      "----------------------------\n",
      "Epoch 1150:\n",
      "Train loss: 24564.833984375 | Test loss: 23583.021484375\n",
      "----------------------------\n",
      "Epoch 1200:\n",
      "Train loss: 25472.6015625 | Test loss: 21765.94921875\n",
      "----------------------------\n",
      "Epoch 1250:\n",
      "Train loss: 23701.171875 | Test loss: 22448.197265625\n",
      "----------------------------\n",
      "Epoch 1300:\n",
      "Train loss: 24592.591796875 | Test loss: 21973.951171875\n",
      "----------------------------\n",
      "Epoch 1350:\n",
      "Train loss: 23444.369140625 | Test loss: 21231.63671875\n",
      "----------------------------\n",
      "Epoch 1400:\n",
      "Train loss: 23321.724609375 | Test loss: 20908.6171875\n",
      "----------------------------\n",
      "Epoch 1450:\n",
      "Train loss: 22863.232421875 | Test loss: 20753.4921875\n",
      "----------------------------\n",
      "Epoch 1500:\n",
      "Train loss: 22711.34765625 | Test loss: 20481.419921875\n",
      "----------------------------\n",
      "Epoch 1550:\n",
      "Train loss: 22911.193359375 | Test loss: 20223.6171875\n",
      "----------------------------\n",
      "Epoch 1600:\n",
      "Train loss: 23042.650390625 | Test loss: 24014.51171875\n",
      "----------------------------\n",
      "Epoch 1650:\n",
      "Train loss: 23020.537109375 | Test loss: 20250.603515625\n",
      "----------------------------\n",
      "Epoch 1700:\n",
      "Train loss: 22750.521484375 | Test loss: 21338.603515625\n",
      "----------------------------\n",
      "Epoch 1750:\n",
      "Train loss: 22185.25 | Test loss: 20008.533203125\n",
      "----------------------------\n",
      "Epoch 1800:\n",
      "Train loss: 22740.228515625 | Test loss: 22202.896484375\n",
      "----------------------------\n",
      "Epoch 1850:\n",
      "Train loss: 22500.53515625 | Test loss: 21450.853515625\n",
      "----------------------------\n",
      "Epoch 1900:\n",
      "Train loss: 22205.9140625 | Test loss: 21480.3359375\n",
      "----------------------------\n",
      "Epoch 1950:\n",
      "Train loss: 22021.916015625 | Test loss: 20929.720703125\n",
      "----------------------------\n",
      "Epoch 2000:\n",
      "Train loss: 21930.076171875 | Test loss: 19830.048828125\n"
     ]
    }
   ],
   "source": [
    "train_test(model5, loss_fn=loss_fn, optimizer=optimizer_5, epochs=2001, X_train=X_train, X_test=X_test, y_train=y_train, y_test=y_test)"
   ],
   "metadata": {
    "collapsed": false,
    "ExecuteTime": {
     "end_time": "2024-07-30T18:42:09.034906379Z",
     "start_time": "2024-07-30T18:42:06.203777546Z"
    }
   },
   "id": "193c5b02673e34d"
  },
  {
   "cell_type": "markdown",
   "source": [
    "## Now let's make some predictions and see what score this model gets in competition"
   ],
   "metadata": {
    "collapsed": false
   },
   "id": "4df3e38134177ac9"
  },
  {
   "cell_type": "code",
   "execution_count": 295,
   "outputs": [
    {
     "data": {
      "text/plain": "        Id  MSSubClass MSZoning  LotFrontage  LotArea Street Alley LotShape  \\\n1454  2915         160       RM         21.0     1936   Pave   NaN      Reg   \n1455  2916         160       RM         21.0     1894   Pave   NaN      Reg   \n1456  2917          20       RL        160.0    20000   Pave   NaN      Reg   \n1457  2918          85       RL         62.0    10441   Pave   NaN      Reg   \n1458  2919          60       RL         74.0     9627   Pave   NaN      Reg   \n\n     LandContour Utilities  ... ScreenPorch PoolArea PoolQC  Fence  \\\n1454         Lvl    AllPub  ...           0        0    NaN    NaN   \n1455         Lvl    AllPub  ...           0        0    NaN    NaN   \n1456         Lvl    AllPub  ...           0        0    NaN    NaN   \n1457         Lvl    AllPub  ...           0        0    NaN  MnPrv   \n1458         Lvl    AllPub  ...           0        0    NaN    NaN   \n\n     MiscFeature MiscVal MoSold  YrSold  SaleType  SaleCondition  \n1454         NaN       0      6    2006        WD         Normal  \n1455         NaN       0      4    2006        WD        Abnorml  \n1456         NaN       0      9    2006        WD        Abnorml  \n1457        Shed     700      7    2006        WD         Normal  \n1458         NaN       0     11    2006        WD         Normal  \n\n[5 rows x 80 columns]",
      "text/html": "<div>\n<style scoped>\n    .dataframe tbody tr th:only-of-type {\n        vertical-align: middle;\n    }\n\n    .dataframe tbody tr th {\n        vertical-align: top;\n    }\n\n    .dataframe thead th {\n        text-align: right;\n    }\n</style>\n<table border=\"1\" class=\"dataframe\">\n  <thead>\n    <tr style=\"text-align: right;\">\n      <th></th>\n      <th>Id</th>\n      <th>MSSubClass</th>\n      <th>MSZoning</th>\n      <th>LotFrontage</th>\n      <th>LotArea</th>\n      <th>Street</th>\n      <th>Alley</th>\n      <th>LotShape</th>\n      <th>LandContour</th>\n      <th>Utilities</th>\n      <th>...</th>\n      <th>ScreenPorch</th>\n      <th>PoolArea</th>\n      <th>PoolQC</th>\n      <th>Fence</th>\n      <th>MiscFeature</th>\n      <th>MiscVal</th>\n      <th>MoSold</th>\n      <th>YrSold</th>\n      <th>SaleType</th>\n      <th>SaleCondition</th>\n    </tr>\n  </thead>\n  <tbody>\n    <tr>\n      <th>1454</th>\n      <td>2915</td>\n      <td>160</td>\n      <td>RM</td>\n      <td>21.0</td>\n      <td>1936</td>\n      <td>Pave</td>\n      <td>NaN</td>\n      <td>Reg</td>\n      <td>Lvl</td>\n      <td>AllPub</td>\n      <td>...</td>\n      <td>0</td>\n      <td>0</td>\n      <td>NaN</td>\n      <td>NaN</td>\n      <td>NaN</td>\n      <td>0</td>\n      <td>6</td>\n      <td>2006</td>\n      <td>WD</td>\n      <td>Normal</td>\n    </tr>\n    <tr>\n      <th>1455</th>\n      <td>2916</td>\n      <td>160</td>\n      <td>RM</td>\n      <td>21.0</td>\n      <td>1894</td>\n      <td>Pave</td>\n      <td>NaN</td>\n      <td>Reg</td>\n      <td>Lvl</td>\n      <td>AllPub</td>\n      <td>...</td>\n      <td>0</td>\n      <td>0</td>\n      <td>NaN</td>\n      <td>NaN</td>\n      <td>NaN</td>\n      <td>0</td>\n      <td>4</td>\n      <td>2006</td>\n      <td>WD</td>\n      <td>Abnorml</td>\n    </tr>\n    <tr>\n      <th>1456</th>\n      <td>2917</td>\n      <td>20</td>\n      <td>RL</td>\n      <td>160.0</td>\n      <td>20000</td>\n      <td>Pave</td>\n      <td>NaN</td>\n      <td>Reg</td>\n      <td>Lvl</td>\n      <td>AllPub</td>\n      <td>...</td>\n      <td>0</td>\n      <td>0</td>\n      <td>NaN</td>\n      <td>NaN</td>\n      <td>NaN</td>\n      <td>0</td>\n      <td>9</td>\n      <td>2006</td>\n      <td>WD</td>\n      <td>Abnorml</td>\n    </tr>\n    <tr>\n      <th>1457</th>\n      <td>2918</td>\n      <td>85</td>\n      <td>RL</td>\n      <td>62.0</td>\n      <td>10441</td>\n      <td>Pave</td>\n      <td>NaN</td>\n      <td>Reg</td>\n      <td>Lvl</td>\n      <td>AllPub</td>\n      <td>...</td>\n      <td>0</td>\n      <td>0</td>\n      <td>NaN</td>\n      <td>MnPrv</td>\n      <td>Shed</td>\n      <td>700</td>\n      <td>7</td>\n      <td>2006</td>\n      <td>WD</td>\n      <td>Normal</td>\n    </tr>\n    <tr>\n      <th>1458</th>\n      <td>2919</td>\n      <td>60</td>\n      <td>RL</td>\n      <td>74.0</td>\n      <td>9627</td>\n      <td>Pave</td>\n      <td>NaN</td>\n      <td>Reg</td>\n      <td>Lvl</td>\n      <td>AllPub</td>\n      <td>...</td>\n      <td>0</td>\n      <td>0</td>\n      <td>NaN</td>\n      <td>NaN</td>\n      <td>NaN</td>\n      <td>0</td>\n      <td>11</td>\n      <td>2006</td>\n      <td>WD</td>\n      <td>Normal</td>\n    </tr>\n  </tbody>\n</table>\n<p>5 rows × 80 columns</p>\n</div>"
     },
     "execution_count": 295,
     "metadata": {},
     "output_type": "execute_result"
    }
   ],
   "source": [
    "X_eval = pd.read_csv(\"test.csv\")\n",
    "X_eval.tail()"
   ],
   "metadata": {
    "collapsed": false,
    "ExecuteTime": {
     "end_time": "2024-07-30T18:42:12.118983770Z",
     "start_time": "2024-07-30T18:42:12.095991292Z"
    }
   },
   "id": "2babbde344368619"
  },
  {
   "cell_type": "code",
   "execution_count": 296,
   "outputs": [
    {
     "data": {
      "text/plain": "     Id  MSSubClass MSZoning  LotFrontage  LotArea Street Alley LotShape  \\\n0  1461          20       RH         80.0    11622   Pave   NaN      Reg   \n1  1462          20       RL         81.0    14267   Pave   NaN      IR1   \n2  1463          60       RL         74.0    13830   Pave   NaN      IR1   \n3  1464          60       RL         78.0     9978   Pave   NaN      IR1   \n4  1465         120       RL         43.0     5005   Pave   NaN      IR1   \n\n  LandContour Utilities  ... ScreenPorch PoolArea PoolQC  Fence MiscFeature  \\\n0         Lvl    AllPub  ...         120        0    NaN  MnPrv         NaN   \n1         Lvl    AllPub  ...           0        0    NaN    NaN        Gar2   \n2         Lvl    AllPub  ...           0        0    NaN  MnPrv         NaN   \n3         Lvl    AllPub  ...           0        0    NaN    NaN         NaN   \n4         HLS    AllPub  ...         144        0    NaN    NaN         NaN   \n\n  MiscVal MoSold  YrSold  SaleType  SaleCondition  \n0       0      6    2010        WD         Normal  \n1   12500      6    2010        WD         Normal  \n2       0      3    2010        WD         Normal  \n3       0      6    2010        WD         Normal  \n4       0      1    2010        WD         Normal  \n\n[5 rows x 80 columns]",
      "text/html": "<div>\n<style scoped>\n    .dataframe tbody tr th:only-of-type {\n        vertical-align: middle;\n    }\n\n    .dataframe tbody tr th {\n        vertical-align: top;\n    }\n\n    .dataframe thead th {\n        text-align: right;\n    }\n</style>\n<table border=\"1\" class=\"dataframe\">\n  <thead>\n    <tr style=\"text-align: right;\">\n      <th></th>\n      <th>Id</th>\n      <th>MSSubClass</th>\n      <th>MSZoning</th>\n      <th>LotFrontage</th>\n      <th>LotArea</th>\n      <th>Street</th>\n      <th>Alley</th>\n      <th>LotShape</th>\n      <th>LandContour</th>\n      <th>Utilities</th>\n      <th>...</th>\n      <th>ScreenPorch</th>\n      <th>PoolArea</th>\n      <th>PoolQC</th>\n      <th>Fence</th>\n      <th>MiscFeature</th>\n      <th>MiscVal</th>\n      <th>MoSold</th>\n      <th>YrSold</th>\n      <th>SaleType</th>\n      <th>SaleCondition</th>\n    </tr>\n  </thead>\n  <tbody>\n    <tr>\n      <th>0</th>\n      <td>1461</td>\n      <td>20</td>\n      <td>RH</td>\n      <td>80.0</td>\n      <td>11622</td>\n      <td>Pave</td>\n      <td>NaN</td>\n      <td>Reg</td>\n      <td>Lvl</td>\n      <td>AllPub</td>\n      <td>...</td>\n      <td>120</td>\n      <td>0</td>\n      <td>NaN</td>\n      <td>MnPrv</td>\n      <td>NaN</td>\n      <td>0</td>\n      <td>6</td>\n      <td>2010</td>\n      <td>WD</td>\n      <td>Normal</td>\n    </tr>\n    <tr>\n      <th>1</th>\n      <td>1462</td>\n      <td>20</td>\n      <td>RL</td>\n      <td>81.0</td>\n      <td>14267</td>\n      <td>Pave</td>\n      <td>NaN</td>\n      <td>IR1</td>\n      <td>Lvl</td>\n      <td>AllPub</td>\n      <td>...</td>\n      <td>0</td>\n      <td>0</td>\n      <td>NaN</td>\n      <td>NaN</td>\n      <td>Gar2</td>\n      <td>12500</td>\n      <td>6</td>\n      <td>2010</td>\n      <td>WD</td>\n      <td>Normal</td>\n    </tr>\n    <tr>\n      <th>2</th>\n      <td>1463</td>\n      <td>60</td>\n      <td>RL</td>\n      <td>74.0</td>\n      <td>13830</td>\n      <td>Pave</td>\n      <td>NaN</td>\n      <td>IR1</td>\n      <td>Lvl</td>\n      <td>AllPub</td>\n      <td>...</td>\n      <td>0</td>\n      <td>0</td>\n      <td>NaN</td>\n      <td>MnPrv</td>\n      <td>NaN</td>\n      <td>0</td>\n      <td>3</td>\n      <td>2010</td>\n      <td>WD</td>\n      <td>Normal</td>\n    </tr>\n    <tr>\n      <th>3</th>\n      <td>1464</td>\n      <td>60</td>\n      <td>RL</td>\n      <td>78.0</td>\n      <td>9978</td>\n      <td>Pave</td>\n      <td>NaN</td>\n      <td>IR1</td>\n      <td>Lvl</td>\n      <td>AllPub</td>\n      <td>...</td>\n      <td>0</td>\n      <td>0</td>\n      <td>NaN</td>\n      <td>NaN</td>\n      <td>NaN</td>\n      <td>0</td>\n      <td>6</td>\n      <td>2010</td>\n      <td>WD</td>\n      <td>Normal</td>\n    </tr>\n    <tr>\n      <th>4</th>\n      <td>1465</td>\n      <td>120</td>\n      <td>RL</td>\n      <td>43.0</td>\n      <td>5005</td>\n      <td>Pave</td>\n      <td>NaN</td>\n      <td>IR1</td>\n      <td>HLS</td>\n      <td>AllPub</td>\n      <td>...</td>\n      <td>144</td>\n      <td>0</td>\n      <td>NaN</td>\n      <td>NaN</td>\n      <td>NaN</td>\n      <td>0</td>\n      <td>1</td>\n      <td>2010</td>\n      <td>WD</td>\n      <td>Normal</td>\n    </tr>\n  </tbody>\n</table>\n<p>5 rows × 80 columns</p>\n</div>"
     },
     "execution_count": 296,
     "metadata": {},
     "output_type": "execute_result"
    }
   ],
   "source": [
    "label_X_test = X_eval.copy()\n",
    "label_X_test.head()"
   ],
   "metadata": {
    "collapsed": false,
    "ExecuteTime": {
     "end_time": "2024-07-30T18:42:12.416498556Z",
     "start_time": "2024-07-30T18:42:12.406342693Z"
    }
   },
   "id": "32e789354a08b535"
  },
  {
   "cell_type": "code",
   "execution_count": 297,
   "outputs": [
    {
     "data": {
      "text/plain": "      0    1     2        3    4         5    6    7    8    9   ...     69  \\\n0   20.0  2.0  80.0  11622.0  1.0  0.345794  3.0  3.0  0.0  4.0  ...  120.0   \n1   20.0  3.0  81.0  14267.0  1.0  0.345794  0.0  3.0  0.0  0.0  ...    0.0   \n2   60.0  3.0  74.0  13830.0  1.0  0.345794  0.0  3.0  0.0  4.0  ...    0.0   \n3   60.0  3.0  78.0   9978.0  1.0  0.345794  0.0  3.0  0.0  4.0  ...    0.0   \n4  120.0  3.0  43.0   5005.0  1.0  0.345794  0.0  1.0  0.0  4.0  ...  144.0   \n\n    70        71        72        73       74   75      76   77   78  \n0  0.0  0.333333  2.000000  1.843137      0.0  6.0  2010.0  8.0  4.0  \n1  0.0  0.333333  1.396552  0.000000  12500.0  6.0  2010.0  8.0  4.0  \n2  0.0  0.333333  2.000000  1.843137      0.0  3.0  2010.0  8.0  4.0  \n3  0.0  0.333333  1.396552  1.843137      0.0  6.0  2010.0  8.0  4.0  \n4  0.0  0.333333  1.396552  1.843137      0.0  1.0  2010.0  8.0  4.0  \n\n[5 rows x 79 columns]",
      "text/html": "<div>\n<style scoped>\n    .dataframe tbody tr th:only-of-type {\n        vertical-align: middle;\n    }\n\n    .dataframe tbody tr th {\n        vertical-align: top;\n    }\n\n    .dataframe thead th {\n        text-align: right;\n    }\n</style>\n<table border=\"1\" class=\"dataframe\">\n  <thead>\n    <tr style=\"text-align: right;\">\n      <th></th>\n      <th>0</th>\n      <th>1</th>\n      <th>2</th>\n      <th>3</th>\n      <th>4</th>\n      <th>5</th>\n      <th>6</th>\n      <th>7</th>\n      <th>8</th>\n      <th>9</th>\n      <th>...</th>\n      <th>69</th>\n      <th>70</th>\n      <th>71</th>\n      <th>72</th>\n      <th>73</th>\n      <th>74</th>\n      <th>75</th>\n      <th>76</th>\n      <th>77</th>\n      <th>78</th>\n    </tr>\n  </thead>\n  <tbody>\n    <tr>\n      <th>0</th>\n      <td>20.0</td>\n      <td>2.0</td>\n      <td>80.0</td>\n      <td>11622.0</td>\n      <td>1.0</td>\n      <td>0.345794</td>\n      <td>3.0</td>\n      <td>3.0</td>\n      <td>0.0</td>\n      <td>4.0</td>\n      <td>...</td>\n      <td>120.0</td>\n      <td>0.0</td>\n      <td>0.333333</td>\n      <td>2.000000</td>\n      <td>1.843137</td>\n      <td>0.0</td>\n      <td>6.0</td>\n      <td>2010.0</td>\n      <td>8.0</td>\n      <td>4.0</td>\n    </tr>\n    <tr>\n      <th>1</th>\n      <td>20.0</td>\n      <td>3.0</td>\n      <td>81.0</td>\n      <td>14267.0</td>\n      <td>1.0</td>\n      <td>0.345794</td>\n      <td>0.0</td>\n      <td>3.0</td>\n      <td>0.0</td>\n      <td>0.0</td>\n      <td>...</td>\n      <td>0.0</td>\n      <td>0.0</td>\n      <td>0.333333</td>\n      <td>1.396552</td>\n      <td>0.000000</td>\n      <td>12500.0</td>\n      <td>6.0</td>\n      <td>2010.0</td>\n      <td>8.0</td>\n      <td>4.0</td>\n    </tr>\n    <tr>\n      <th>2</th>\n      <td>60.0</td>\n      <td>3.0</td>\n      <td>74.0</td>\n      <td>13830.0</td>\n      <td>1.0</td>\n      <td>0.345794</td>\n      <td>0.0</td>\n      <td>3.0</td>\n      <td>0.0</td>\n      <td>4.0</td>\n      <td>...</td>\n      <td>0.0</td>\n      <td>0.0</td>\n      <td>0.333333</td>\n      <td>2.000000</td>\n      <td>1.843137</td>\n      <td>0.0</td>\n      <td>3.0</td>\n      <td>2010.0</td>\n      <td>8.0</td>\n      <td>4.0</td>\n    </tr>\n    <tr>\n      <th>3</th>\n      <td>60.0</td>\n      <td>3.0</td>\n      <td>78.0</td>\n      <td>9978.0</td>\n      <td>1.0</td>\n      <td>0.345794</td>\n      <td>0.0</td>\n      <td>3.0</td>\n      <td>0.0</td>\n      <td>4.0</td>\n      <td>...</td>\n      <td>0.0</td>\n      <td>0.0</td>\n      <td>0.333333</td>\n      <td>1.396552</td>\n      <td>1.843137</td>\n      <td>0.0</td>\n      <td>6.0</td>\n      <td>2010.0</td>\n      <td>8.0</td>\n      <td>4.0</td>\n    </tr>\n    <tr>\n      <th>4</th>\n      <td>120.0</td>\n      <td>3.0</td>\n      <td>43.0</td>\n      <td>5005.0</td>\n      <td>1.0</td>\n      <td>0.345794</td>\n      <td>0.0</td>\n      <td>1.0</td>\n      <td>0.0</td>\n      <td>4.0</td>\n      <td>...</td>\n      <td>144.0</td>\n      <td>0.0</td>\n      <td>0.333333</td>\n      <td>1.396552</td>\n      <td>1.843137</td>\n      <td>0.0</td>\n      <td>1.0</td>\n      <td>2010.0</td>\n      <td>8.0</td>\n      <td>4.0</td>\n    </tr>\n  </tbody>\n</table>\n<p>5 rows × 79 columns</p>\n</div>"
     },
     "execution_count": 297,
     "metadata": {},
     "output_type": "execute_result"
    }
   ],
   "source": [
    "label_X_test = label_X_test.drop(\"Id\", axis=1)\n",
    "\n",
    "label_X_test[object_cols] = ordinal_encoder.fit_transform(label_X_test[object_cols])\n",
    "label_X_test = pd.DataFrame(my_imputer.fit_transform(label_X_test))\n",
    "\n",
    "label_X_test.head()"
   ],
   "metadata": {
    "collapsed": false,
    "ExecuteTime": {
     "end_time": "2024-07-30T18:42:12.667207598Z",
     "start_time": "2024-07-30T18:42:12.622272456Z"
    }
   },
   "id": "9eaca9cdb6452f33"
  },
  {
   "cell_type": "code",
   "execution_count": 298,
   "outputs": [],
   "source": [
    "label_X_test = torch.tensor(label_X_test[useful_data].values, dtype=torch.float32)"
   ],
   "metadata": {
    "collapsed": false,
    "ExecuteTime": {
     "end_time": "2024-07-30T18:42:12.933548707Z",
     "start_time": "2024-07-30T18:42:12.930905660Z"
    }
   },
   "id": "3220048d901add6c"
  },
  {
   "cell_type": "code",
   "execution_count": 299,
   "outputs": [
    {
     "data": {
      "text/plain": "torch.Size([1459, 22])"
     },
     "execution_count": 299,
     "metadata": {},
     "output_type": "execute_result"
    }
   ],
   "source": [
    "label_X_test.shape"
   ],
   "metadata": {
    "collapsed": false,
    "ExecuteTime": {
     "end_time": "2024-07-30T18:42:13.160150847Z",
     "start_time": "2024-07-30T18:42:13.155723769Z"
    }
   },
   "id": "e977de978b75b11d"
  },
  {
   "cell_type": "code",
   "execution_count": 300,
   "outputs": [
    {
     "data": {
      "text/plain": "array([[132689.2 ],\n       [164598.05],\n       [184803.9 ],\n       ...,\n       [146602.31],\n       [112829.08],\n       [221621.64]], dtype=float32)"
     },
     "execution_count": 300,
     "metadata": {},
     "output_type": "execute_result"
    }
   ],
   "source": [
    "model5.eval()\n",
    "y_res = model5(label_X_test)\n",
    "predictions = y_res.detach().numpy()\n",
    "predictions"
   ],
   "metadata": {
    "collapsed": false,
    "ExecuteTime": {
     "end_time": "2024-07-30T18:42:13.468309225Z",
     "start_time": "2024-07-30T18:42:13.456225851Z"
    }
   },
   "id": "159b01315be2d4cb"
  },
  {
   "cell_type": "code",
   "execution_count": 301,
   "outputs": [],
   "source": [
    "import csv\n",
    "def write_to_csv(predictions):\n",
    "    with open(\"predicts.csv\", mode=\"w\") as f:\n",
    "        fieldnames = [\n",
    "            \"Id\",\n",
    "            \"SalePrice\"\n",
    "        ]\n",
    "        writer = csv.DictWriter(f, fieldnames=fieldnames)\n",
    "        writer.writeheader()\n",
    "        for i in range(0, len(predictions)):\n",
    "            dct = {\"Id\":i+1461, \"SalePrice\":predictions[i][0]}\n",
    "            writer.writerow(dct)"
   ],
   "metadata": {
    "collapsed": false,
    "ExecuteTime": {
     "end_time": "2024-07-30T18:42:13.913100722Z",
     "start_time": "2024-07-30T18:42:13.907317777Z"
    }
   },
   "id": "4bdf2d5bed7f5b1b"
  },
  {
   "cell_type": "code",
   "execution_count": 302,
   "outputs": [],
   "source": [
    "write_to_csv(predictions=predictions)"
   ],
   "metadata": {
    "collapsed": false,
    "ExecuteTime": {
     "end_time": "2024-07-30T18:42:14.790669083Z",
     "start_time": "2024-07-30T18:42:14.749635622Z"
    }
   },
   "id": "b7bb57fcb0c4890"
  },
  {
   "cell_type": "markdown",
   "source": [
    "## This model has achieved score of 0.18515"
   ],
   "metadata": {
    "collapsed": false
   },
   "id": "1ca2318432f4f96b"
  },
  {
   "cell_type": "code",
   "execution_count": 276,
   "outputs": [],
   "source": [],
   "metadata": {
    "collapsed": false,
    "ExecuteTime": {
     "end_time": "2024-07-30T18:38:32.507326868Z",
     "start_time": "2024-07-30T18:38:32.431009825Z"
    }
   },
   "id": "655011f448275164"
  }
 ],
 "metadata": {
  "kernelspec": {
   "display_name": "Python 3",
   "language": "python",
   "name": "python3"
  },
  "language_info": {
   "codemirror_mode": {
    "name": "ipython",
    "version": 2
   },
   "file_extension": ".py",
   "mimetype": "text/x-python",
   "name": "python",
   "nbconvert_exporter": "python",
   "pygments_lexer": "ipython2",
   "version": "2.7.6"
  }
 },
 "nbformat": 4,
 "nbformat_minor": 5
}
